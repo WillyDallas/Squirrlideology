{
 "cells": [
  {
   "cell_type": "code",
   "execution_count": null,
   "metadata": {},
   "outputs": [],
   "source": [
    "#Install Reqs\n",
    "!pip3 install langchain\n",
    "!pip3 install openai\n",
    "!pip3 install google-search-results\n",
    "!pip3 install python-dotenv"
   ]
  },
  {
   "cell_type": "code",
   "execution_count": null,
   "metadata": {},
   "outputs": [],
   "source": [
    "#Environment Variables\n",
    "import os\n",
    "from dotenv import load_dotenv\n",
    "env_path = os.path.join(os.path.dirname(os.path.abspath('')), '..', '.env')\n",
    "load_dotenv(dotenv_path=env_path)\n",
    "\n",
    "#LLM Imports\n",
    "from langchain.llms import OpenAI\n",
    "\n",
    "#Prompt Imports\n",
    "from langchain.prompts import PromptTemplate\n",
    "\n",
    "#Chain Imports\n",
    "from langchain.chains import LLMChain\n",
    "\n",
    "#Agent Imports\n",
    "from langchain.agents import AgentType\n",
    "from langchain.agents import initialize_agent\n",
    "from langchain.agents import load_tools"
   ]
  },
  {
   "cell_type": "code",
   "execution_count": null,
   "metadata": {},
   "outputs": [],
   "source": [
    "llm = OpenAI(temperature=0.9)\n",
    "prompt = PromptTemplate(\n",
    "    input_variables=[\"topic\"],\n",
    "    template=\"Write a question revloving around the topic {topic}, it should be a scenario that asks the user to input how they would respond\"\n",
    ")\n",
    "chain = LLMChain(llm=llm, prompt=prompt)"
   ]
  },
  {
   "cell_type": "code",
   "execution_count": null,
   "metadata": {},
   "outputs": [],
   "source": [
    "chain.run(\"stand your ground\")"
   ]
  }
 ],
 "metadata": {
  "kernelspec": {
   "display_name": "Python 3",
   "language": "python",
   "name": "python3"
  },
  "language_info": {
   "codemirror_mode": {
    "name": "ipython",
    "version": 3
   },
   "file_extension": ".py",
   "mimetype": "text/x-python",
   "name": "python",
   "nbconvert_exporter": "python",
   "pygments_lexer": "ipython3",
   "version": "3.11.3"
  },
  "orig_nbformat": 4
 },
 "nbformat": 4,
 "nbformat_minor": 2
}
